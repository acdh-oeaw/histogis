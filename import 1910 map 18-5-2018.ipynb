{
 "cells": [
  {
   "cell_type": "code",
   "execution_count": 1,
   "metadata": {},
   "outputs": [],
   "source": [
    "from django.contrib.gis.gdal import DataSource\n",
    "from django.contrib.gis.utils import LayerMapping\n",
    "import os"
   ]
  },
  {
   "cell_type": "code",
   "execution_count": 2,
   "metadata": {},
   "outputs": [],
   "source": [
    "path = '/mnt/acdh_resources/container/R_histogis_7663/Austria-Hungary/Austro-Hungarian Empire 1910/austro_hungarian_empire1910_polygon.shp'"
   ]
  },
  {
   "cell_type": "code",
   "execution_count": 38,
   "metadata": {},
   "outputs": [
    {
     "ename": "NameError",
     "evalue": "name 'path' is not defined",
     "output_type": "error",
     "traceback": [
      "\u001b[0;31m---------------------------------------------------------------------------\u001b[0m",
      "\u001b[0;31mNameError\u001b[0m                                 Traceback (most recent call last)",
      "\u001b[0;32m<ipython-input-38-c6633ed60917>\u001b[0m in \u001b[0;36m<module>\u001b[0;34m()\u001b[0m\n\u001b[0;32m----> 1\u001b[0;31m \u001b[0mds\u001b[0m \u001b[0;34m=\u001b[0m \u001b[0mDataSource\u001b[0m\u001b[0;34m(\u001b[0m\u001b[0mpath\u001b[0m\u001b[0;34m)\u001b[0m\u001b[0;34m\u001b[0m\u001b[0m\n\u001b[0m",
      "\u001b[0;31mNameError\u001b[0m: name 'path' is not defined"
     ]
    }
   ],
   "source": [
    "ds = DataSource(path)"
   ]
  },
  {
   "cell_type": "code",
   "execution_count": 4,
   "metadata": {},
   "outputs": [],
   "source": [
    "layer = ds[0]"
   ]
  },
  {
   "cell_type": "code",
   "execution_count": 5,
   "metadata": {},
   "outputs": [
    {
     "name": "stdout",
     "output_type": "stream",
     "text": [
      "['LAND', 'AUTONUMBER', 'SHAPE_LENG', 'SHAPE_AREA', 'OID_', 'AUTONUMB_1', 'ID_1', 'NAME', 'REGION', 'DISTRICT', 'LOCAL_', 'START_DATE', 'END_DATE']\n"
     ]
    }
   ],
   "source": [
    "print(layer.fields)"
   ]
  },
  {
   "cell_type": "code",
   "execution_count": 6,
   "metadata": {},
   "outputs": [
    {
     "name": "stdout",
     "output_type": "stream",
     "text": [
      "Polygon\n"
     ]
    }
   ],
   "source": [
    "print(layer.geom_type)"
   ]
  },
  {
   "cell_type": "code",
   "execution_count": 7,
   "metadata": {},
   "outputs": [
    {
     "name": "stdout",
     "output_type": "stream",
     "text": [
      "PROJCS[\"ETRS89_LAEA_Europe\",\n",
      "    GEOGCS[\"GCS_ETRS_1989\",\n",
      "        DATUM[\"European_Terrestrial_Reference_System_1989\",\n",
      "            SPHEROID[\"GRS_1980\",6378137,298.257222101]],\n",
      "        PRIMEM[\"Greenwich\",0],\n",
      "        UNIT[\"Degree\",0.017453292519943295]],\n",
      "    PROJECTION[\"Lambert_Azimuthal_Equal_Area\"],\n",
      "    PARAMETER[\"latitude_of_center\",52],\n",
      "    PARAMETER[\"longitude_of_center\",10],\n",
      "    PARAMETER[\"false_easting\",4321000],\n",
      "    PARAMETER[\"false_northing\",3210000],\n",
      "    UNIT[\"Meter\",1]]\n"
     ]
    }
   ],
   "source": [
    "print(layer.srs)"
   ]
  },
  {
   "cell_type": "code",
   "execution_count": 3,
   "metadata": {},
   "outputs": [],
   "source": [
    "mapping = {'name': 'LAND', 'geom': 'POLYGON',\n",
    "           'start_date': 'START_DATE', 'end_date': 'END_DATE',\n",
    "           'part_of_id': 'PART_OF_ID'}"
   ]
  },
  {
   "cell_type": "code",
   "execution_count": 9,
   "metadata": {},
   "outputs": [],
   "source": [
    "lm = LayerMapping(TempSpatial, path, mapping)"
   ]
  },
  {
   "cell_type": "code",
   "execution_count": 10,
   "metadata": {},
   "outputs": [
    {
     "name": "stdout",
     "output_type": "stream",
     "text": [
      "Saved: ÖSTERREICH UNGARN\n"
     ]
    }
   ],
   "source": [
    "lm2 = lm.save(verbose=True)"
   ]
  },
  {
   "cell_type": "code",
   "execution_count": 13,
   "metadata": {},
   "outputs": [
    {
     "ename": "TypeError",
     "evalue": "'LayerMapping' object is not iterable",
     "output_type": "error",
     "traceback": [
      "\u001b[0;31m---------------------------------------------------------------------------\u001b[0m",
      "\u001b[0;31mTypeError\u001b[0m                                 Traceback (most recent call last)",
      "\u001b[0;32m<ipython-input-13-1166c7f2d306>\u001b[0m in \u001b[0;36m<module>\u001b[0;34m()\u001b[0m\n\u001b[0;32m----> 1\u001b[0;31m \u001b[0;32mfor\u001b[0m \u001b[0mx\u001b[0m \u001b[0;32min\u001b[0m \u001b[0mlm\u001b[0m\u001b[0;34m:\u001b[0m\u001b[0;34m\u001b[0m\u001b[0m\n\u001b[0m\u001b[1;32m      2\u001b[0m     \u001b[0mprint\u001b[0m\u001b[0;34m(\u001b[0m\u001b[0mx\u001b[0m\u001b[0;34m)\u001b[0m\u001b[0;34m\u001b[0m\u001b[0m\n",
      "\u001b[0;31mTypeError\u001b[0m: 'LayerMapping' object is not iterable"
     ]
    }
   ],
   "source": [
    "for filename in os.listdir(directory):\n",
    "    if filename.endswith(\".shp\"): "
   ]
  },
  {
   "cell_type": "markdown",
   "metadata": {},
   "source": [
    "### districts"
   ]
  },
  {
   "cell_type": "code",
   "execution_count": 4,
   "metadata": {},
   "outputs": [],
   "source": [
    "import shapefile"
   ]
  },
  {
   "cell_type": "code",
   "execution_count": 5,
   "metadata": {},
   "outputs": [],
   "source": [
    "path_regions = '/mnt/acdh_resources/container/R_histogis_7663/Austria-Hungary/Austro-Hungarian Empire 1910/Regions'"
   ]
  },
  {
   "cell_type": "code",
   "execution_count": 9,
   "metadata": {},
   "outputs": [
    {
     "data": {
      "text/plain": [
       "1"
      ]
     },
     "execution_count": 9,
     "metadata": {},
     "output_type": "execute_result"
    }
   ],
   "source": [
    "kuk = TempSpatial.objects.all()[0]\n",
    "kuk.id"
   ]
  },
  {
   "cell_type": "code",
   "execution_count": 15,
   "metadata": {},
   "outputs": [
    {
     "name": "stdout",
     "output_type": "stream",
     "text": [
      "[['LAND', 'C', 254, 0], ['AUTONUMBER', 'N', 21, 5], ['SHAPE_LENG', 'N', 21, 5], ['SHAPE_AREA', 'N', 21, 5], ['OID_', 'N', 10, 0], ['AUTONUMB_1', 'N', 21, 5], ['ID_1', 'N', 10, 0], ['NAME', 'C', 254, 0], ['REGION', 'N', 10, 0], ['DISTRICT', 'N', 10, 0], ['LOCAL_', 'N', 10, 0], ('START_DATE', 'D', '8', 0), ('END_DATE', 'D', '8', 0)]\n",
      "['BOEHMEN', 1.0, 46.44234, 67.02032, 594, 1.0, 301086180, 'Hainspach/Hanspach', 301, 86, 180]\n",
      "['BOEHMEN', 1.0, 46.44234, 67.02032, 594, 1.0, 301086180, 'Hainspach/Hanspach', 301, 86, 180]\n",
      "['BOEHMEN', 1.0, 46.44234, 67.02032, 594, 1.0, 301086180, 'Hainspach/Hanspach', 301, 86, 180, '19100101', '19101231']\n",
      "[['LAND', 'C', 254, 0], ['AUTONUMBER', 'N', 21, 5], ['SHAPE_LENG', 'N', 21, 5], ['SHAPE_AREA', 'N', 21, 5], ['OID_', 'N', 10, 0], ['AUTONUMB_1', 'N', 21, 5], ['ID_1', 'N', 10, 0], ['NAME', 'C', 254, 0], ['REGION', 'N', 10, 0], ['DISTRICT', 'N', 10, 0], ['LOCAL_', 'N', 10, 0], ('START_DATE', 'D', '8', 0), ('END_DATE', 'D', '8', 0)]\n"
     ]
    }
   ],
   "source": [
    "for filename in os.listdir(path_regions):\n",
    "    if filename.endswith(\".shp\"):\n",
    "        r = shapefile.Reader(os.path.join(path_regions, filename.split('.')[0]))\n",
    "        w1 = os.path.join(path_regions, 'shapes_inkl_dates')\n",
    "        w2 = shapefile.Writer()\n",
    "        w2.fields = r.fields[1:]\n",
    "        w2.field('START_DATE', 'D')\n",
    "        w2.field('END_DATE', 'D')\n",
    "        w2.field('PART_OF_ID', 'N', decimal=30)\n",
    "        print(w2.fields)\n",
    "        for shaperec in r.iterShapeRecords():\n",
    "            #w2.shape(shaperec.shape)\n",
    "            w2._shapes.append(shaperec.shape)\n",
    "            print(shaperec.record)\n",
    "            lst1 = shaperec.record\n",
    "            print(lst1)\n",
    "            lst1.extend(['19100101', '19101231', 1])\n",
    "            print(lst1)\n",
    "            w2.record(*lst1)\n",
    "            #w2.record(START_DATE='19100101', END_DATE='19101231')\n",
    "            print(w2.fields)\n",
    "        w2.save(os.path.join(w1, filename))"
   ]
  },
  {
   "cell_type": "code",
   "execution_count": 14,
   "metadata": {},
   "outputs": [],
   "source": [
    "ds = DataSource(os.path.join(os.path.join(path_regions, 'shapes_inkl_dates'), 'BUKOWINA.shp'))"
   ]
  },
  {
   "cell_type": "code",
   "execution_count": 15,
   "metadata": {},
   "outputs": [],
   "source": [
    "layer = ds[0]"
   ]
  },
  {
   "cell_type": "code",
   "execution_count": 16,
   "metadata": {},
   "outputs": [
    {
     "name": "stdout",
     "output_type": "stream",
     "text": [
      "PROJCS[\"ETRS89_LAEA_Europe\",\n",
      "    GEOGCS[\"GCS_ETRS_1989\",\n",
      "        DATUM[\"European_Terrestrial_Reference_System_1989\",\n",
      "            SPHEROID[\"GRS_1980\",6378137,298.257222101]],\n",
      "        PRIMEM[\"Greenwich\",0],\n",
      "        UNIT[\"Degree\",0.017453292519943295]],\n",
      "    PROJECTION[\"Lambert_Azimuthal_Equal_Area\"],\n",
      "    PARAMETER[\"latitude_of_center\",52],\n",
      "    PARAMETER[\"longitude_of_center\",10],\n",
      "    PARAMETER[\"false_easting\",4321000],\n",
      "    PARAMETER[\"false_northing\",3210000],\n",
      "    UNIT[\"Meter\",1]]\n"
     ]
    }
   ],
   "source": [
    "print(layer.srs)"
   ]
  },
  {
   "cell_type": "code",
   "execution_count": 17,
   "metadata": {},
   "outputs": [
    {
     "name": "stdout",
     "output_type": "stream",
     "text": [
      "['LAND', 'AUTONUMBER', 'SHAPE_LENG', 'SHAPE_AREA', 'OID_', 'AUTONUMB_1', 'ID_1', 'NAME', 'REGION', 'DISTRICT', 'LOCAL_', 'START_DATE', 'END_DATE']\n"
     ]
    }
   ],
   "source": [
    "print(layer.fields)"
   ]
  },
  {
   "cell_type": "code",
   "execution_count": 7,
   "metadata": {},
   "outputs": [
    {
     "name": "stdout",
     "output_type": "stream",
     "text": [
      "Saved: BOEHMEN\n",
      "BOEHMEN.shp\n",
      "Saved: BUKOWINA\n",
      "BUKOWINA.shp\n",
      "Saved: DALMATIEN\n",
      "DALMATIEN.shp\n",
      "Saved: DONAU-THEISS-BECKEN\n",
      "DONAU_THEISS_BECKEN.shp\n",
      "Saved: FIUME\n",
      "FIUME.shp\n",
      "Saved: GALIZIEN\n",
      "GALIZIEN.shp\n",
      "Saved: GOERZ & GRADISCA\n",
      "GOERZ_GRADISCA.shp\n",
      "Saved: ISTRIEN\n",
      "ISTRIEN.shp\n",
      "Saved: KAERNTEN\n",
      "KAERNTEN.shp\n",
      "Saved: KRAIN\n",
      "KRAIN.shp\n",
      "Saved: KROATIEN-SLAWONIEN\n",
      "KROATIEN-SLAWONIEN.shp\n",
      "Saved: LINKES DONAUUFER\n",
      "LINKES_DONAUUFER.shp\n",
      "Saved: MAEHREN\n",
      "MAEHREN.shp\n",
      "Saved: NIEDEROESTERREICH\n",
      "NIEDEROESTERREICH.shp\n",
      "Saved: OBEROESTERREICH\n",
      "OBEREOESTERREICH.shp\n",
      "Saved: RECHTES DONAUUFER\n",
      "RECHTES_DONAUUFER.shp\n",
      "Saved: RECHTES THEISSUFER\n",
      "RECHTES_THEISSUFER.shp\n",
      "Saved: SALZBURG\n",
      "SALZBURG.shp\n",
      "Saved: SCHLESIEN\n",
      "SCHLESIEN.shp\n",
      "Saved: SIEBENBUERGEN\n",
      "SIEBENBUERGEN.shp\n",
      "Saved: STEIERMARK\n",
      "STEIERMARK.shp\n",
      "Saved: THEISS-MAROS-BECKEN\n",
      "THEISS-MAROS-BECKEN.shp\n",
      "Saved: TIROL\n",
      "TIROL.shp\n",
      "Saved: VORARLBERG\n",
      "VORARLBERG.shp\n",
      "Saved: BOSNIEN-HERZEGOWINA\n",
      "BOSNIEN-HERZEGOWINA.shp\n",
      "Saved: LINKES THEISSUFER\n",
      "LINKES_THEISSUFER.shp\n"
     ]
    }
   ],
   "source": [
    "for filename in os.listdir(os.path.join(path_regions, 'shapes_inkl_dates')):\n",
    "    if filename.endswith(\".shp\"):\n",
    "        lm = LayerMapping(TempSpatial, os.path.join(os.path.join(path_regions, 'shapes_inkl_dates'), filename), mapping)\n",
    "        lm2 = lm.save(verbose=True)\n",
    "        print(filename)"
   ]
  },
  {
   "cell_type": "code",
   "execution_count": 51,
   "metadata": {},
   "outputs": [],
   "source": [
    "from shutil import copyfile"
   ]
  },
  {
   "cell_type": "code",
   "execution_count": 52,
   "metadata": {},
   "outputs": [],
   "source": [
    "for filename in os.listdir(path_regions):\n",
    "    if filename.endswith(\".prj\"):\n",
    "        copyfile(os.path.join(path_regions, filename), os.path.join(os.path.join(path_regions, 'shapes_inkl_dates'), filename))"
   ]
  },
  {
   "cell_type": "code",
   "execution_count": null,
   "metadata": {},
   "outputs": [],
   "source": []
  }
 ],
 "metadata": {
  "kernelspec": {
   "display_name": "Django Shell-Plus",
   "language": "python",
   "name": "django_extensions"
  },
  "language_info": {
   "codemirror_mode": {
    "name": "ipython",
    "version": 3
   },
   "file_extension": ".py",
   "mimetype": "text/x-python",
   "name": "python",
   "nbconvert_exporter": "python",
   "pygments_lexer": "ipython3",
   "version": "3.6.5"
  }
 },
 "nbformat": 4,
 "nbformat_minor": 2
}
