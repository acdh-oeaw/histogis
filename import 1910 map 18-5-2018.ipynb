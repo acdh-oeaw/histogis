{
 "cells": [
  {
   "cell_type": "code",
   "execution_count": 1,
   "metadata": {},
   "outputs": [],
   "source": [
    "from django.contrib.gis.gdal import DataSource\n",
    "from django.contrib.gis.utils import LayerMapping\n",
    "import os"
   ]
  },
  {
   "cell_type": "code",
   "execution_count": 2,
   "metadata": {},
   "outputs": [],
   "source": [
    "path = '/mnt/acdh_resources/container/R_histogis_7663/Austria-Hungary/Austro-Hungarian Empire 1910/austro_hungarian_empire1910_polygon.shp'"
   ]
  },
  {
   "cell_type": "code",
   "execution_count": 38,
   "metadata": {},
   "outputs": [
    {
     "ename": "NameError",
     "evalue": "name 'path' is not defined",
     "output_type": "error",
     "traceback": [
      "\u001b[0;31m---------------------------------------------------------------------------\u001b[0m",
      "\u001b[0;31mNameError\u001b[0m                                 Traceback (most recent call last)",
      "\u001b[0;32m<ipython-input-38-c6633ed60917>\u001b[0m in \u001b[0;36m<module>\u001b[0;34m()\u001b[0m\n\u001b[0;32m----> 1\u001b[0;31m \u001b[0mds\u001b[0m \u001b[0;34m=\u001b[0m \u001b[0mDataSource\u001b[0m\u001b[0;34m(\u001b[0m\u001b[0mpath\u001b[0m\u001b[0;34m)\u001b[0m\u001b[0;34m\u001b[0m\u001b[0m\n\u001b[0m",
      "\u001b[0;31mNameError\u001b[0m: name 'path' is not defined"
     ]
    }
   ],
   "source": [
    "ds = DataSource(path)"
   ]
  },
  {
   "cell_type": "code",
   "execution_count": 4,
   "metadata": {},
   "outputs": [],
   "source": [
    "layer = ds[0]"
   ]
  },
  {
   "cell_type": "code",
   "execution_count": 5,
   "metadata": {},
   "outputs": [
    {
     "name": "stdout",
     "output_type": "stream",
     "text": [
      "['LAND', 'AUTONUMBER', 'SHAPE_LENG', 'SHAPE_AREA', 'OID_', 'AUTONUMB_1', 'ID_1', 'NAME', 'REGION', 'DISTRICT', 'LOCAL_', 'START_DATE', 'END_DATE']\n"
     ]
    }
   ],
   "source": [
    "print(layer.fields)"
   ]
  },
  {
   "cell_type": "code",
   "execution_count": 6,
   "metadata": {},
   "outputs": [
    {
     "name": "stdout",
     "output_type": "stream",
     "text": [
      "Polygon\n"
     ]
    }
   ],
   "source": [
    "print(layer.geom_type)"
   ]
  },
  {
   "cell_type": "code",
   "execution_count": 7,
   "metadata": {},
   "outputs": [
    {
     "name": "stdout",
     "output_type": "stream",
     "text": [
      "PROJCS[\"ETRS89_LAEA_Europe\",\n",
      "    GEOGCS[\"GCS_ETRS_1989\",\n",
      "        DATUM[\"European_Terrestrial_Reference_System_1989\",\n",
      "            SPHEROID[\"GRS_1980\",6378137,298.257222101]],\n",
      "        PRIMEM[\"Greenwich\",0],\n",
      "        UNIT[\"Degree\",0.017453292519943295]],\n",
      "    PROJECTION[\"Lambert_Azimuthal_Equal_Area\"],\n",
      "    PARAMETER[\"latitude_of_center\",52],\n",
      "    PARAMETER[\"longitude_of_center\",10],\n",
      "    PARAMETER[\"false_easting\",4321000],\n",
      "    PARAMETER[\"false_northing\",3210000],\n",
      "    UNIT[\"Meter\",1]]\n"
     ]
    }
   ],
   "source": [
    "print(layer.srs)"
   ]
  },
  {
   "cell_type": "code",
   "execution_count": 7,
   "metadata": {},
   "outputs": [],
   "source": [
    "mapping = {'name': 'NAME', 'geom': 'POLYGON', 'start_date': 'START_DATE', 'end_date': 'END_DATE'}"
   ]
  },
  {
   "cell_type": "code",
   "execution_count": 9,
   "metadata": {},
   "outputs": [],
   "source": [
    "lm = LayerMapping(TempSpatial, path, mapping)"
   ]
  },
  {
   "cell_type": "code",
   "execution_count": 10,
   "metadata": {},
   "outputs": [
    {
     "name": "stdout",
     "output_type": "stream",
     "text": [
      "Saved: ÖSTERREICH UNGARN\n"
     ]
    }
   ],
   "source": [
    "lm2 = lm.save(verbose=True)"
   ]
  },
  {
   "cell_type": "code",
   "execution_count": 13,
   "metadata": {},
   "outputs": [
    {
     "ename": "TypeError",
     "evalue": "'LayerMapping' object is not iterable",
     "output_type": "error",
     "traceback": [
      "\u001b[0;31m---------------------------------------------------------------------------\u001b[0m",
      "\u001b[0;31mTypeError\u001b[0m                                 Traceback (most recent call last)",
      "\u001b[0;32m<ipython-input-13-1166c7f2d306>\u001b[0m in \u001b[0;36m<module>\u001b[0;34m()\u001b[0m\n\u001b[0;32m----> 1\u001b[0;31m \u001b[0;32mfor\u001b[0m \u001b[0mx\u001b[0m \u001b[0;32min\u001b[0m \u001b[0mlm\u001b[0m\u001b[0;34m:\u001b[0m\u001b[0;34m\u001b[0m\u001b[0m\n\u001b[0m\u001b[1;32m      2\u001b[0m     \u001b[0mprint\u001b[0m\u001b[0;34m(\u001b[0m\u001b[0mx\u001b[0m\u001b[0;34m)\u001b[0m\u001b[0;34m\u001b[0m\u001b[0m\n",
      "\u001b[0;31mTypeError\u001b[0m: 'LayerMapping' object is not iterable"
     ]
    }
   ],
   "source": [
    "for filename in os.listdir(directory):\n",
    "    if filename.endswith(\".shp\"): "
   ]
  },
  {
   "cell_type": "markdown",
   "metadata": {},
   "source": [
    "### districts"
   ]
  },
  {
   "cell_type": "code",
   "execution_count": 3,
   "metadata": {},
   "outputs": [],
   "source": [
    "import shapefile"
   ]
  },
  {
   "cell_type": "code",
   "execution_count": 4,
   "metadata": {},
   "outputs": [],
   "source": [
    "path_regions = '/mnt/acdh_resources/container/R_histogis_7663/Austria-Hungary/Austro-Hungarian Empire 1910/Regions'"
   ]
  },
  {
   "cell_type": "code",
   "execution_count": 5,
   "metadata": {},
   "outputs": [],
   "source": [
    "kuk = TempSpatial.objects.all()[0]"
   ]
  },
  {
   "cell_type": "code",
   "execution_count": 36,
   "metadata": {},
   "outputs": [
    {
     "name": "stdout",
     "output_type": "stream",
     "text": [
      "[['LAND', 'C', 254, 0], ['AUTONUMBER', 'N', 21, 5], ['SHAPE_LENG', 'N', 21, 5], ['SHAPE_AREA', 'N', 21, 5], ['OID_', 'N', 10, 0], ['AUTONUMB_1', 'N', 21, 5], ['ID_1', 'N', 10, 0], ['NAME', 'C', 254, 0], ['REGION', 'N', 10, 0], ['DISTRICT', 'N', 10, 0], ['LOCAL_', 'N', 10, 0], ('START_DATE', 'D', '8', 0), ('END_DATE', 'D', '8', 0)]\n",
      "['BOEHMEN', 1.0, 46.44234, 67.02032, 594, 1.0, 301086180, 'Hainspach/Hanspach', 301, 86, 180]\n",
      "['BOEHMEN', 1.0, 46.44234, 67.02032, 594, 1.0, 301086180, 'Hainspach/Hanspach', 301, 86, 180]\n",
      "['BOEHMEN', 1.0, 46.44234, 67.02032, 594, 1.0, 301086180, 'Hainspach/Hanspach', 301, 86, 180, '19100101', '19101231']\n",
      "[['LAND', 'C', 254, 0], ['AUTONUMBER', 'N', 21, 5], ['SHAPE_LENG', 'N', 21, 5], ['SHAPE_AREA', 'N', 21, 5], ['OID_', 'N', 10, 0], ['AUTONUMB_1', 'N', 21, 5], ['ID_1', 'N', 10, 0], ['NAME', 'C', 254, 0], ['REGION', 'N', 10, 0], ['DISTRICT', 'N', 10, 0], ['LOCAL_', 'N', 10, 0], ('START_DATE', 'D', '8', 0), ('END_DATE', 'D', '8', 0)]\n",
      "[['LAND', 'C', 254, 0], ['AUTONUMBER', 'N', 21, 5], ['SHAPE_LENG', 'N', 21, 5], ['SHAPE_AREA', 'N', 21, 5], ['OID_', 'N', 10, 0], ['AUTONUMB_1', 'N', 21, 5], ['ID_1', 'N', 10, 0], ['NAME', 'C', 254, 0], ['REGION', 'N', 10, 0], ['DISTRICT', 'N', 10, 0], ['LOCAL_', 'N', 10, 0], ('START_DATE', 'D', '8', 0), ('END_DATE', 'D', '8', 0)]\n",
      "['BUKOWINA', 596.0, 70.11418, 159.32774, 957, 596.0, 402010016, 'Stanestie/Staniwci/Stane', 402, 10, 16]\n",
      "['BUKOWINA', 596.0, 70.11418, 159.32774, 957, 596.0, 402010016, 'Stanestie/Staniwci/Stane', 402, 10, 16]\n",
      "['BUKOWINA', 596.0, 70.11418, 159.32774, 957, 596.0, 402010016, 'Stanestie/Staniwci/Stane', 402, 10, 16, '19100101', '19101231']\n",
      "[['LAND', 'C', 254, 0], ['AUTONUMBER', 'N', 21, 5], ['SHAPE_LENG', 'N', 21, 5], ['SHAPE_AREA', 'N', 21, 5], ['OID_', 'N', 10, 0], ['AUTONUMB_1', 'N', 21, 5], ['ID_1', 'N', 10, 0], ['NAME', 'C', 254, 0], ['REGION', 'N', 10, 0], ['DISTRICT', 'N', 10, 0], ['LOCAL_', 'N', 10, 0], ('START_DATE', 'D', '8', 0), ('END_DATE', 'D', '8', 0)]\n",
      "[['LAND', 'C', 254, 0], ['AUTONUMBER', 'N', 21, 5], ['SHAPE_LENG', 'N', 21, 5], ['SHAPE_AREA', 'N', 21, 5], ['OID_', 'N', 10, 0], ['AUTONUMB_1', 'N', 21, 5], ['ID_1', 'N', 10, 0], ['NAME', 'C', 254, 0], ['REGION', 'N', 10, 0], ['DISTRICT', 'N', 10, 0], ['LOCAL_', 'N', 10, 0], ('START_DATE', 'D', '8', 0), ('END_DATE', 'D', '8', 0)]\n",
      "['DALMATIEN', 1728.0, 91.08122, 354.12917, 402, 1728.0, 205010023, 'Brazza/Bra? (San Pietro/', 205, 10, 23]\n",
      "['DALMATIEN', 1728.0, 91.08122, 354.12917, 402, 1728.0, 205010023, 'Brazza/Bra? (San Pietro/', 205, 10, 23]\n",
      "['DALMATIEN', 1728.0, 91.08122, 354.12917, 402, 1728.0, 205010023, 'Brazza/Bra? (San Pietro/', 205, 10, 23, '19100101', '19101231']\n",
      "[['LAND', 'C', 254, 0], ['AUTONUMBER', 'N', 21, 5], ['SHAPE_LENG', 'N', 21, 5], ['SHAPE_AREA', 'N', 21, 5], ['OID_', 'N', 10, 0], ['AUTONUMB_1', 'N', 21, 5], ['ID_1', 'N', 10, 0], ['NAME', 'C', 254, 0], ['REGION', 'N', 10, 0], ['DISTRICT', 'N', 10, 0], ['LOCAL_', 'N', 10, 0], ('START_DATE', 'D', '8', 0), ('END_DATE', 'D', '8', 0)]\n",
      "[['LAND', 'C', 254, 0], ['AUTONUMBER', 'N', 21, 5], ['SHAPE_LENG', 'N', 21, 5], ['SHAPE_AREA', 'N', 21, 5], ['OID_', 'N', 10, 0], ['AUTONUMB_1', 'N', 21, 5], ['ID_1', 'N', 10, 0], ['NAME', 'C', 254, 0], ['REGION', 'N', 10, 0], ['DISTRICT', 'N', 10, 0], ['LOCAL_', 'N', 10, 0], ('START_DATE', 'D', '8', 0), ('END_DATE', 'D', '8', 0)]\n",
      "['DONAU-THEISS-BECKEN', 791.0, 181.61832, 635.97399, 1158, 791.0, 503009027, 'Eger', 503, 9, 27]\n",
      "['DONAU-THEISS-BECKEN', 791.0, 181.61832, 635.97399, 1158, 791.0, 503009027, 'Eger', 503, 9, 27]\n",
      "['DONAU-THEISS-BECKEN', 791.0, 181.61832, 635.97399, 1158, 791.0, 503009027, 'Eger', 503, 9, 27, '19100101', '19101231']\n",
      "[['LAND', 'C', 254, 0], ['AUTONUMBER', 'N', 21, 5], ['SHAPE_LENG', 'N', 21, 5], ['SHAPE_AREA', 'N', 21, 5], ['OID_', 'N', 10, 0], ['AUTONUMB_1', 'N', 21, 5], ['ID_1', 'N', 10, 0], ['NAME', 'C', 254, 0], ['REGION', 'N', 10, 0], ['DISTRICT', 'N', 10, 0], ['LOCAL_', 'N', 10, 0], ('START_DATE', 'D', '8', 0), ('END_DATE', 'D', '8', 0)]\n",
      "[['LAND', 'C', 254, 0], ['AUTONUMBER', 'N', 21, 5], ['SHAPE_LENG', 'N', 21, 5], ['SHAPE_AREA', 'N', 21, 5], ['OID_', 'N', 10, 0], ['AUTONUMB_1', 'N', 21, 5], ['ID_1', 'N', 10, 0], ['NAME', 'C', 254, 0], ['REGION', 'N', 10, 0], ['DISTRICT', 'N', 10, 0], ['LOCAL_', 'N', 10, 0], ('START_DATE', 'D', '8', 0), ('END_DATE', 'D', '8', 0)]\n",
      "['FIUME', 1544.0, 33.65005, 69.89909, 379, 1544.0, 204001001, 'Fiume Varos es keruelete', 204, 1, 1]\n",
      "['FIUME', 1544.0, 33.65005, 69.89909, 379, 1544.0, 204001001, 'Fiume Varos es keruelete', 204, 1, 1]\n",
      "['FIUME', 1544.0, 33.65005, 69.89909, 379, 1544.0, 204001001, 'Fiume Varos es keruelete', 204, 1, 1, '19100101', '19101231']\n",
      "[['LAND', 'C', 254, 0], ['AUTONUMBER', 'N', 21, 5], ['SHAPE_LENG', 'N', 21, 5], ['SHAPE_AREA', 'N', 21, 5], ['OID_', 'N', 10, 0], ['AUTONUMB_1', 'N', 21, 5], ['ID_1', 'N', 10, 0], ['NAME', 'C', 254, 0], ['REGION', 'N', 10, 0], ['DISTRICT', 'N', 10, 0], ['LOCAL_', 'N', 10, 0], ('START_DATE', 'D', '8', 0), ('END_DATE', 'D', '8', 0)]\n",
      "[['LAND', 'C', 254, 0], ['AUTONUMBER', 'N', 21, 5], ['SHAPE_LENG', 'N', 21, 5], ['SHAPE_AREA', 'N', 21, 5], ['OID_', 'N', 10, 0], ['AUTONUMB_1', 'N', 21, 5], ['ID_1', 'N', 10, 0], ['NAME', 'C', 254, 0], ['REGION', 'N', 10, 0], ['DISTRICT', 'N', 10, 0], ['LOCAL_', 'N', 10, 0], ('START_DATE', 'D', '8', 0), ('END_DATE', 'D', '8', 0)]\n",
      "['GALIZIEN', 258.0, 79.94002, 256.95255, 795, 258.0, 401018042, 'Biecz', 401, 18, 42]\n",
      "['GALIZIEN', 258.0, 79.94002, 256.95255, 795, 258.0, 401018042, 'Biecz', 401, 18, 42]\n",
      "['GALIZIEN', 258.0, 79.94002, 256.95255, 795, 258.0, 401018042, 'Biecz', 401, 18, 42, '19100101', '19101231']\n",
      "[['LAND', 'C', 254, 0], ['AUTONUMBER', 'N', 21, 5], ['SHAPE_LENG', 'N', 21, 5], ['SHAPE_AREA', 'N', 21, 5], ['OID_', 'N', 10, 0], ['AUTONUMB_1', 'N', 21, 5], ['ID_1', 'N', 10, 0], ['NAME', 'C', 254, 0], ['REGION', 'N', 10, 0], ['DISTRICT', 'N', 10, 0], ['LOCAL_', 'N', 10, 0], ('START_DATE', 'D', '8', 0), ('END_DATE', 'D', '8', 0)]\n",
      "[['LAND', 'C', 254, 0], ['AUTONUMBER', 'N', 21, 5], ['SHAPE_LENG', 'N', 21, 5], ['SHAPE_AREA', 'N', 21, 5], ['OID_', 'N', 10, 0], ['AUTONUMB_1', 'N', 21, 5], ['ID_1', 'N', 10, 0], ['NAME', 'C', 254, 0], ['REGION', 'N', 10, 0], ['DISTRICT', 'N', 10, 0], ['LOCAL_', 'N', 10, 0], ('START_DATE', 'D', '8', 0), ('END_DATE', 'D', '8', 0)]\n",
      "['GOERZ & GRADISCA', 1432.0, 37.44126, 66.28044, 352, 1432.0, 201003006, 'Gradisca/Gradiska', 201, 3, 6]\n",
      "['GOERZ & GRADISCA', 1432.0, 37.44126, 66.28044, 352, 1432.0, 201003006, 'Gradisca/Gradiska', 201, 3, 6]\n",
      "['GOERZ & GRADISCA', 1432.0, 37.44126, 66.28044, 352, 1432.0, 201003006, 'Gradisca/Gradiska', 201, 3, 6, '19100101', '19101231']\n",
      "[['LAND', 'C', 254, 0], ['AUTONUMBER', 'N', 21, 5], ['SHAPE_LENG', 'N', 21, 5], ['SHAPE_AREA', 'N', 21, 5], ['OID_', 'N', 10, 0], ['AUTONUMB_1', 'N', 21, 5], ['ID_1', 'N', 10, 0], ['NAME', 'C', 254, 0], ['REGION', 'N', 10, 0], ['DISTRICT', 'N', 10, 0], ['LOCAL_', 'N', 10, 0], ('START_DATE', 'D', '8', 0), ('END_DATE', 'D', '8', 0)]\n",
      "[['LAND', 'C', 254, 0], ['AUTONUMBER', 'N', 21, 5], ['SHAPE_LENG', 'N', 21, 5], ['SHAPE_AREA', 'N', 21, 5], ['OID_', 'N', 10, 0], ['AUTONUMB_1', 'N', 21, 5], ['ID_1', 'N', 10, 0], ['NAME', 'C', 254, 0], ['REGION', 'N', 10, 0], ['DISTRICT', 'N', 10, 0], ['LOCAL_', 'N', 10, 0], ('START_DATE', 'D', '8', 0), ('END_DATE', 'D', '8', 0)]\n",
      "['ISTRIEN', 1629.0, 153.32087, 400.39128, 365, 1629.0, 203008018, 'Cherso/Cres', 203, 8, 18]\n",
      "['ISTRIEN', 1629.0, 153.32087, 400.39128, 365, 1629.0, 203008018, 'Cherso/Cres', 203, 8, 18]\n",
      "['ISTRIEN', 1629.0, 153.32087, 400.39128, 365, 1629.0, 203008018, 'Cherso/Cres', 203, 8, 18, '19100101', '19101231']\n",
      "[['LAND', 'C', 254, 0], ['AUTONUMBER', 'N', 21, 5], ['SHAPE_LENG', 'N', 21, 5], ['SHAPE_AREA', 'N', 21, 5], ['OID_', 'N', 10, 0], ['AUTONUMB_1', 'N', 21, 5], ['ID_1', 'N', 10, 0], ['NAME', 'C', 254, 0], ['REGION', 'N', 10, 0], ['DISTRICT', 'N', 10, 0], ['LOCAL_', 'N', 10, 0], ('START_DATE', 'D', '8', 0), ('END_DATE', 'D', '8', 0)]\n",
      "[['LAND', 'C', 254, 0], ['AUTONUMBER', 'N', 21, 5], ['SHAPE_LENG', 'N', 21, 5], ['SHAPE_AREA', 'N', 21, 5], ['OID_', 'N', 10, 0], ['AUTONUMB_1', 'N', 21, 5], ['ID_1', 'N', 10, 0], ['NAME', 'C', 254, 0], ['REGION', 'N', 10, 0], ['DISTRICT', 'N', 10, 0], ['LOCAL_', 'N', 10, 0], ('START_DATE', 'D', '8', 0), ('END_DATE', 'D', '8', 0)]\n",
      "['KAERNTEN', 1192.0, 21.78846, 31.11795, 215, 1192.0, 105003006, 'Klagenfurt/Celovec St.', 105, 3, 6]\n",
      "['KAERNTEN', 1192.0, 21.78846, 31.11795, 215, 1192.0, 105003006, 'Klagenfurt/Celovec St.', 105, 3, 6]\n",
      "['KAERNTEN', 1192.0, 21.78846, 31.11795, 215, 1192.0, 105003006, 'Klagenfurt/Celovec St.', 105, 3, 6, '19100101', '19101231']\n",
      "[['LAND', 'C', 254, 0], ['AUTONUMBER', 'N', 21, 5], ['SHAPE_LENG', 'N', 21, 5], ['SHAPE_AREA', 'N', 21, 5], ['OID_', 'N', 10, 0], ['AUTONUMB_1', 'N', 21, 5], ['ID_1', 'N', 10, 0], ['NAME', 'C', 254, 0], ['REGION', 'N', 10, 0], ['DISTRICT', 'N', 10, 0], ['LOCAL_', 'N', 10, 0], ('START_DATE', 'D', '8', 0), ('END_DATE', 'D', '8', 0)]\n"
     ]
    },
    {
     "name": "stdout",
     "output_type": "stream",
     "text": [
      "[['LAND', 'C', 254, 0], ['AUTONUMBER', 'N', 21, 5], ['SHAPE_LENG', 'N', 21, 5], ['SHAPE_AREA', 'N', 21, 5], ['OID_', 'N', 10, 0], ['AUTONUMB_1', 'N', 21, 5], ['ID_1', 'N', 10, 0], ['NAME', 'C', 254, 0], ['REGION', 'N', 10, 0], ['DISTRICT', 'N', 10, 0], ['LOCAL_', 'N', 10, 0], ('START_DATE', 'D', '8', 0), ('END_DATE', 'D', '8', 0)]\n",
      "['KRAIN', 1512.0, 139.40777, 670.2964, 243, 1512.0, 106002005, 'Gottschee/Kocevje', 106, 2, 5]\n",
      "['KRAIN', 1512.0, 139.40777, 670.2964, 243, 1512.0, 106002005, 'Gottschee/Kocevje', 106, 2, 5]\n",
      "['KRAIN', 1512.0, 139.40777, 670.2964, 243, 1512.0, 106002005, 'Gottschee/Kocevje', 106, 2, 5, '19100101', '19101231']\n",
      "[['LAND', 'C', 254, 0], ['AUTONUMBER', 'N', 21, 5], ['SHAPE_LENG', 'N', 21, 5], ['SHAPE_AREA', 'N', 21, 5], ['OID_', 'N', 10, 0], ['AUTONUMB_1', 'N', 21, 5], ['ID_1', 'N', 10, 0], ['NAME', 'C', 254, 0], ['REGION', 'N', 10, 0], ['DISTRICT', 'N', 10, 0], ['LOCAL_', 'N', 10, 0], ('START_DATE', 'D', '8', 0), ('END_DATE', 'D', '8', 0)]\n",
      "[['LAND', 'C', 254, 0], ['AUTONUMBER', 'N', 21, 5], ['SHAPE_LENG', 'N', 21, 5], ['SHAPE_AREA', 'N', 21, 5], ['OID_', 'N', 10, 0], ['AUTONUMB_1', 'N', 21, 5], ['ID_1', 'N', 10, 0], ['NAME', 'C', 254, 0], ['REGION', 'N', 10, 0], ['DISTRICT', 'N', 10, 0], ['LOCAL_', 'N', 10, 0], ('START_DATE', 'D', '8', 0), ('END_DATE', 'D', '8', 0)]\n",
      "['KROATIEN-SLAWONIEN', 1605.0, 41.98176, 83.38278, 1590, 1605.0, 601006052, 'Zemun/Zimony [Semlin] Mu', 601, 6, 52]\n",
      "['KROATIEN-SLAWONIEN', 1605.0, 41.98176, 83.38278, 1590, 1605.0, 601006052, 'Zemun/Zimony [Semlin] Mu', 601, 6, 52]\n",
      "['KROATIEN-SLAWONIEN', 1605.0, 41.98176, 83.38278, 1590, 1605.0, 601006052, 'Zemun/Zimony [Semlin] Mu', 601, 6, 52, '19100101', '19101231']\n",
      "[['LAND', 'C', 254, 0], ['AUTONUMBER', 'N', 21, 5], ['SHAPE_LENG', 'N', 21, 5], ['SHAPE_AREA', 'N', 21, 5], ['OID_', 'N', 10, 0], ['AUTONUMB_1', 'N', 21, 5], ['ID_1', 'N', 10, 0], ['NAME', 'C', 254, 0], ['REGION', 'N', 10, 0], ['DISTRICT', 'N', 10, 0], ['LOCAL_', 'N', 10, 0], ('START_DATE', 'D', '8', 0), ('END_DATE', 'D', '8', 0)]\n",
      "[['LAND', 'C', 254, 0], ['AUTONUMBER', 'N', 21, 5], ['SHAPE_LENG', 'N', 21, 5], ['SHAPE_AREA', 'N', 21, 5], ['OID_', 'N', 10, 0], ['AUTONUMB_1', 'N', 21, 5], ['ID_1', 'N', 10, 0], ['NAME', 'C', 254, 0], ['REGION', 'N', 10, 0], ['DISTRICT', 'N', 10, 0], ['LOCAL_', 'N', 10, 0], ('START_DATE', 'D', '8', 0), ('END_DATE', 'D', '8', 0)]\n",
      "['LINKES DONAUUFER', 660.0, 45.45864, 87.51401, 1071, 660.0, 502005023, 'Selmecz-es Belabanya [Sc', 502, 5, 23]\n",
      "['LINKES DONAUUFER', 660.0, 45.45864, 87.51401, 1071, 660.0, 502005023, 'Selmecz-es Belabanya [Sc', 502, 5, 23]\n",
      "['LINKES DONAUUFER', 660.0, 45.45864, 87.51401, 1071, 660.0, 502005023, 'Selmecz-es Belabanya [Sc', 502, 5, 23, '19100101', '19101231']\n",
      "[['LAND', 'C', 254, 0], ['AUTONUMBER', 'N', 21, 5], ['SHAPE_LENG', 'N', 21, 5], ['SHAPE_AREA', 'N', 21, 5], ['OID_', 'N', 10, 0], ['AUTONUMB_1', 'N', 21, 5], ['ID_1', 'N', 10, 0], ['NAME', 'C', 254, 0], ['REGION', 'N', 10, 0], ['DISTRICT', 'N', 10, 0], ['LOCAL_', 'N', 10, 0], ('START_DATE', 'D', '8', 0), ('END_DATE', 'D', '8', 0)]\n",
      "[['LAND', 'C', 254, 0], ['AUTONUMBER', 'N', 21, 5], ['SHAPE_LENG', 'N', 21, 5], ['SHAPE_AREA', 'N', 21, 5], ['OID_', 'N', 10, 0], ['AUTONUMB_1', 'N', 21, 5], ['ID_1', 'N', 10, 0], ['NAME', 'C', 254, 0], ['REGION', 'N', 10, 0], ['DISTRICT', 'N', 10, 0], ['LOCAL_', 'N', 10, 0], ('START_DATE', 'D', '8', 0), ('END_DATE', 'D', '8', 0)]\n",
      "['MAEHREN', 526.0, 72.02808, 218.84032, 709, 526.0, 302035069, 'Bojkowitz/Bojkovice', 302, 35, 69]\n",
      "['MAEHREN', 526.0, 72.02808, 218.84032, 709, 526.0, 302035069, 'Bojkowitz/Bojkovice', 302, 35, 69]\n",
      "['MAEHREN', 526.0, 72.02808, 218.84032, 709, 526.0, 302035069, 'Bojkowitz/Bojkovice', 302, 35, 69, '19100101', '19101231']\n",
      "[['LAND', 'C', 254, 0], ['AUTONUMBER', 'N', 21, 5], ['SHAPE_LENG', 'N', 21, 5], ['SHAPE_AREA', 'N', 21, 5], ['OID_', 'N', 10, 0], ['AUTONUMB_1', 'N', 21, 5], ['ID_1', 'N', 10, 0], ['NAME', 'C', 254, 0], ['REGION', 'N', 10, 0], ['DISTRICT', 'N', 10, 0], ['LOCAL_', 'N', 10, 0], ('START_DATE', 'D', '8', 0), ('END_DATE', 'D', '8', 0)]\n",
      "[['LAND', 'C', 254, 0], ['AUTONUMBER', 'N', 21, 5], ['SHAPE_LENG', 'N', 21, 5], ['SHAPE_AREA', 'N', 21, 5], ['OID_', 'N', 10, 0], ['AUTONUMB_1', 'N', 21, 5], ['ID_1', 'N', 10, 0], ['NAME', 'C', 254, 0], ['REGION', 'N', 10, 0], ['DISTRICT', 'N', 10, 0], ['LOCAL_', 'N', 10, 0], ('START_DATE', 'D', '8', 0), ('END_DATE', 'D', '8', 0)]\n",
      "['NIEDEROESTERREICH', 792.0, 70.63686, 203.14441, 9, 792.0, 101004010, 'Schwechat', 101, 4, 10]\n",
      "['NIEDEROESTERREICH', 792.0, 70.63686, 203.14441, 9, 792.0, 101004010, 'Schwechat', 101, 4, 10]\n",
      "['NIEDEROESTERREICH', 792.0, 70.63686, 203.14441, 9, 792.0, 101004010, 'Schwechat', 101, 4, 10, '19100101', '19101231']\n",
      "[['LAND', 'C', 254, 0], ['AUTONUMBER', 'N', 21, 5], ['SHAPE_LENG', 'N', 21, 5], ['SHAPE_AREA', 'N', 21, 5], ['OID_', 'N', 10, 0], ['AUTONUMB_1', 'N', 21, 5], ['ID_1', 'N', 10, 0], ['NAME', 'C', 254, 0], ['REGION', 'N', 10, 0], ['DISTRICT', 'N', 10, 0], ['LOCAL_', 'N', 10, 0], ('START_DATE', 'D', '8', 0), ('END_DATE', 'D', '8', 0)]\n",
      "[['LAND', 'C', 254, 0], ['AUTONUMBER', 'N', 21, 5], ['SHAPE_LENG', 'N', 21, 5], ['SHAPE_AREA', 'N', 21, 5], ['OID_', 'N', 10, 0], ['AUTONUMB_1', 'N', 21, 5], ['ID_1', 'N', 10, 0], ['NAME', 'C', 254, 0], ['REGION', 'N', 10, 0], ['DISTRICT', 'N', 10, 0], ['LOCAL_', 'N', 10, 0], ('START_DATE', 'D', '8', 0), ('END_DATE', 'D', '8', 0)]\n",
      "['OBEROESTERREICH', 809.0, 85.14547, 276.9179, 76, 809.0, 102001004, 'Wildshut', 102, 1, 4]\n",
      "['OBEROESTERREICH', 809.0, 85.14547, 276.9179, 76, 809.0, 102001004, 'Wildshut', 102, 1, 4]\n",
      "['OBEROESTERREICH', 809.0, 85.14547, 276.9179, 76, 809.0, 102001004, 'Wildshut', 102, 1, 4, '19100101', '19101231']\n",
      "[['LAND', 'C', 254, 0], ['AUTONUMBER', 'N', 21, 5], ['SHAPE_LENG', 'N', 21, 5], ['SHAPE_AREA', 'N', 21, 5], ['OID_', 'N', 10, 0], ['AUTONUMB_1', 'N', 21, 5], ['ID_1', 'N', 10, 0], ['NAME', 'C', 254, 0], ['REGION', 'N', 10, 0], ['DISTRICT', 'N', 10, 0], ['LOCAL_', 'N', 10, 0], ('START_DATE', 'D', '8', 0), ('END_DATE', 'D', '8', 0)]\n",
      "[['LAND', 'C', 254, 0], ['AUTONUMBER', 'N', 21, 5], ['SHAPE_LENG', 'N', 21, 5], ['SHAPE_AREA', 'N', 21, 5], ['OID_', 'N', 10, 0], ['AUTONUMB_1', 'N', 21, 5], ['ID_1', 'N', 10, 0], ['NAME', 'C', 254, 0], ['REGION', 'N', 10, 0], ['DISTRICT', 'N', 10, 0], ['LOCAL_', 'N', 10, 0], ('START_DATE', 'D', '8', 0), ('END_DATE', 'D', '8', 0)]\n",
      "['RECHTES DONAUUFER', 1284.0, 89.90112, 292.55005, 1043, 1284.0, 501016082, 'Perlak [Prelog]', 501, 16, 82]\n",
      "['RECHTES DONAUUFER', 1284.0, 89.90112, 292.55005, 1043, 1284.0, 501016082, 'Perlak [Prelog]', 501, 16, 82]\n",
      "['RECHTES DONAUUFER', 1284.0, 89.90112, 292.55005, 1043, 1284.0, 501016082, 'Perlak [Prelog]', 501, 16, 82, '19100101', '19101231']\n",
      "[['LAND', 'C', 254, 0], ['AUTONUMBER', 'N', 21, 5], ['SHAPE_LENG', 'N', 21, 5], ['SHAPE_AREA', 'N', 21, 5], ['OID_', 'N', 10, 0], ['AUTONUMB_1', 'N', 21, 5], ['ID_1', 'N', 10, 0], ['NAME', 'C', 254, 0], ['REGION', 'N', 10, 0], ['DISTRICT', 'N', 10, 0], ['LOCAL_', 'N', 10, 0], ('START_DATE', 'D', '8', 0), ('END_DATE', 'D', '8', 0)]\n",
      "[['LAND', 'C', 254, 0], ['AUTONUMBER', 'N', 21, 5], ['SHAPE_LENG', 'N', 21, 5], ['SHAPE_AREA', 'N', 21, 5], ['OID_', 'N', 10, 0], ['AUTONUMB_1', 'N', 21, 5], ['ID_1', 'N', 10, 0], ['NAME', 'C', 254, 0], ['REGION', 'N', 10, 0], ['DISTRICT', 'N', 10, 0], ['LOCAL_', 'N', 10, 0], ('START_DATE', 'D', '8', 0), ('END_DATE', 'D', '8', 0)]\n",
      "['RECHTES THEISSUFER', 400.0, 96.84244, 434.96067, 1259, 400.0, 504008059, 'Szepesofalu [Altendorf;', 504, 8, 59]\n",
      "['RECHTES THEISSUFER', 400.0, 96.84244, 434.96067, 1259, 400.0, 504008059, 'Szepesofalu [Altendorf;', 504, 8, 59]\n",
      "['RECHTES THEISSUFER', 400.0, 96.84244, 434.96067, 1259, 400.0, 504008059, 'Szepesofalu [Altendorf;', 504, 8, 59, '19100101', '19101231']\n",
      "[['LAND', 'C', 254, 0], ['AUTONUMBER', 'N', 21, 5], ['SHAPE_LENG', 'N', 21, 5], ['SHAPE_AREA', 'N', 21, 5], ['OID_', 'N', 10, 0], ['AUTONUMB_1', 'N', 21, 5], ['ID_1', 'N', 10, 0], ['NAME', 'C', 254, 0], ['REGION', 'N', 10, 0], ['DISTRICT', 'N', 10, 0], ['LOCAL_', 'N', 10, 0], ('START_DATE', 'D', '8', 0), ('END_DATE', 'D', '8', 0)]\n",
      "[['LAND', 'C', 254, 0], ['AUTONUMBER', 'N', 21, 5], ['SHAPE_LENG', 'N', 21, 5], ['SHAPE_AREA', 'N', 21, 5], ['OID_', 'N', 10, 0], ['AUTONUMB_1', 'N', 21, 5], ['ID_1', 'N', 10, 0], ['NAME', 'C', 254, 0], ['REGION', 'N', 10, 0], ['DISTRICT', 'N', 10, 0], ['LOCAL_', 'N', 10, 0], ('START_DATE', 'D', '8', 0), ('END_DATE', 'D', '8', 0)]\n",
      "['SALZBURG', 897.0, 62.61404, 177.39284, 129, 897.0, 103002009, 'Thalgau', 103, 2, 9]\n",
      "['SALZBURG', 897.0, 62.61404, 177.39284, 129, 897.0, 103002009, 'Thalgau', 103, 2, 9]\n",
      "['SALZBURG', 897.0, 62.61404, 177.39284, 129, 897.0, 103002009, 'Thalgau', 103, 2, 9, '19100101', '19101231']\n",
      "[['LAND', 'C', 254, 0], ['AUTONUMBER', 'N', 21, 5], ['SHAPE_LENG', 'N', 21, 5], ['SHAPE_AREA', 'N', 21, 5], ['OID_', 'N', 10, 0], ['AUTONUMB_1', 'N', 21, 5], ['ID_1', 'N', 10, 0], ['NAME', 'C', 254, 0], ['REGION', 'N', 10, 0], ['DISTRICT', 'N', 10, 0], ['LOCAL_', 'N', 10, 0], ('START_DATE', 'D', '8', 0), ('END_DATE', 'D', '8', 0)]\n"
     ]
    },
    {
     "name": "stdout",
     "output_type": "stream",
     "text": [
      "[['LAND', 'C', 254, 0], ['AUTONUMBER', 'N', 21, 5], ['SHAPE_LENG', 'N', 21, 5], ['SHAPE_AREA', 'N', 21, 5], ['OID_', 'N', 10, 0], ['AUTONUMB_1', 'N', 21, 5], ['ID_1', 'N', 10, 0], ['NAME', 'C', 254, 0], ['REGION', 'N', 10, 0], ['DISTRICT', 'N', 10, 0], ['LOCAL_', 'N', 10, 0], ('START_DATE', 'D', '8', 0), ('END_DATE', 'D', '8', 0)]\n",
      "['SCHLESIEN', 150.0, 56.9719, 143.21998, 738, 150.0, 303005013, 'Wuerbenthal', 303, 5, 13]\n",
      "['SCHLESIEN', 150.0, 56.9719, 143.21998, 738, 150.0, 303005013, 'Wuerbenthal', 303, 5, 13]\n",
      "['SCHLESIEN', 150.0, 56.9719, 143.21998, 738, 150.0, 303005013, 'Wuerbenthal', 303, 5, 13, '19100101', '19101231']\n",
      "[['LAND', 'C', 254, 0], ['AUTONUMBER', 'N', 21, 5], ['SHAPE_LENG', 'N', 21, 5], ['SHAPE_AREA', 'N', 21, 5], ['OID_', 'N', 10, 0], ['AUTONUMB_1', 'N', 21, 5], ['ID_1', 'N', 10, 0], ['NAME', 'C', 254, 0], ['REGION', 'N', 10, 0], ['DISTRICT', 'N', 10, 0], ['LOCAL_', 'N', 10, 0], ('START_DATE', 'D', '8', 0), ('END_DATE', 'D', '8', 0)]\n",
      "[['LAND', 'C', 254, 0], ['AUTONUMBER', 'N', 21, 5], ['SHAPE_LENG', 'N', 21, 5], ['SHAPE_AREA', 'N', 21, 5], ['OID_', 'N', 10, 0], ['AUTONUMB_1', 'N', 21, 5], ['ID_1', 'N', 10, 0], ['NAME', 'C', 254, 0], ['REGION', 'N', 10, 0], ['DISTRICT', 'N', 10, 0], ['LOCAL_', 'N', 10, 0], ('START_DATE', 'D', '8', 0), ('END_DATE', 'D', '8', 0)]\n",
      "['SIEBENBUERGEN', 1330.0, 42.53525, 82.84224, 1436, 1330.0, 507001012, 'Vizakna [Salzburg; Okna]', 507, 1, 12]\n",
      "['SIEBENBUERGEN', 1330.0, 42.53525, 82.84224, 1436, 1330.0, 507001012, 'Vizakna [Salzburg; Okna]', 507, 1, 12]\n",
      "['SIEBENBUERGEN', 1330.0, 42.53525, 82.84224, 1436, 1330.0, 507001012, 'Vizakna [Salzburg; Okna]', 507, 1, 12, '19100101', '19101231']\n",
      "[['LAND', 'C', 254, 0], ['AUTONUMBER', 'N', 21, 5], ['SHAPE_LENG', 'N', 21, 5], ['SHAPE_AREA', 'N', 21, 5], ['OID_', 'N', 10, 0], ['AUTONUMB_1', 'N', 21, 5], ['ID_1', 'N', 10, 0], ['NAME', 'C', 254, 0], ['REGION', 'N', 10, 0], ['DISTRICT', 'N', 10, 0], ['LOCAL_', 'N', 10, 0], ('START_DATE', 'D', '8', 0), ('END_DATE', 'D', '8', 0)]\n",
      "[['LAND', 'C', 254, 0], ['AUTONUMBER', 'N', 21, 5], ['SHAPE_LENG', 'N', 21, 5], ['SHAPE_AREA', 'N', 21, 5], ['OID_', 'N', 10, 0], ['AUTONUMB_1', 'N', 21, 5], ['ID_1', 'N', 10, 0], ['NAME', 'C', 254, 0], ['REGION', 'N', 10, 0], ['DISTRICT', 'N', 10, 0], ['LOCAL_', 'N', 10, 0], ('START_DATE', 'D', '8', 0), ('END_DATE', 'D', '8', 0)]\n",
      "['STEIERMARK', 1148.0, 100.28986, 377.9956, 151, 1148.0, 104004010, 'Deutschlandsberg', 104, 4, 10]\n",
      "['STEIERMARK', 1148.0, 100.28986, 377.9956, 151, 1148.0, 104004010, 'Deutschlandsberg', 104, 4, 10]\n",
      "['STEIERMARK', 1148.0, 100.28986, 377.9956, 151, 1148.0, 104004010, 'Deutschlandsberg', 104, 4, 10, '19100101', '19101231']\n",
      "[['LAND', 'C', 254, 0], ['AUTONUMBER', 'N', 21, 5], ['SHAPE_LENG', 'N', 21, 5], ['SHAPE_AREA', 'N', 21, 5], ['OID_', 'N', 10, 0], ['AUTONUMB_1', 'N', 21, 5], ['ID_1', 'N', 10, 0], ['NAME', 'C', 254, 0], ['REGION', 'N', 10, 0], ['DISTRICT', 'N', 10, 0], ['LOCAL_', 'N', 10, 0], ('START_DATE', 'D', '8', 0), ('END_DATE', 'D', '8', 0)]\n",
      "[['LAND', 'C', 254, 0], ['AUTONUMBER', 'N', 21, 5], ['SHAPE_LENG', 'N', 21, 5], ['SHAPE_AREA', 'N', 21, 5], ['OID_', 'N', 10, 0], ['AUTONUMB_1', 'N', 21, 5], ['ID_1', 'N', 10, 0], ['NAME', 'C', 254, 0], ['REGION', 'N', 10, 0], ['DISTRICT', 'N', 10, 0], ['LOCAL_', 'N', 10, 0], ('START_DATE', 'D', '8', 0), ('END_DATE', 'D', '8', 0)]\n",
      "['THEISS-MAROS-BECKEN', 1504.0, 165.04166, 817.93474, 1421, 1504.0, 506008060, 'Toeroekbecse [Ujbecse]', 506, 8, 60]\n",
      "['THEISS-MAROS-BECKEN', 1504.0, 165.04166, 817.93474, 1421, 1504.0, 506008060, 'Toeroekbecse [Ujbecse]', 506, 8, 60]\n",
      "['THEISS-MAROS-BECKEN', 1504.0, 165.04166, 817.93474, 1421, 1504.0, 506008060, 'Toeroekbecse [Ujbecse]', 506, 8, 60, '19100101', '19101231']\n",
      "[['LAND', 'C', 254, 0], ['AUTONUMBER', 'N', 21, 5], ['SHAPE_LENG', 'N', 21, 5], ['SHAPE_AREA', 'N', 21, 5], ['OID_', 'N', 10, 0], ['AUTONUMB_1', 'N', 21, 5], ['ID_1', 'N', 10, 0], ['NAME', 'C', 254, 0], ['REGION', 'N', 10, 0], ['DISTRICT', 'N', 10, 0], ['LOCAL_', 'N', 10, 0], ('START_DATE', 'D', '8', 0), ('END_DATE', 'D', '8', 0)]\n",
      "[['LAND', 'C', 254, 0], ['AUTONUMBER', 'N', 21, 5], ['SHAPE_LENG', 'N', 21, 5], ['SHAPE_AREA', 'N', 21, 5], ['OID_', 'N', 10, 0], ['AUTONUMB_1', 'N', 21, 5], ['ID_1', 'N', 10, 0], ['NAME', 'C', 254, 0], ['REGION', 'N', 10, 0], ['DISTRICT', 'N', 10, 0], ['LOCAL_', 'N', 10, 0], ('START_DATE', 'D', '8', 0), ('END_DATE', 'D', '8', 0)]\n",
      "['TIROL', 1469.0, 64.23843, 181.8274, 321, 1469.0, 107021051, 'Ala', 107, 21, 51]\n",
      "['TIROL', 1469.0, 64.23843, 181.8274, 321, 1469.0, 107021051, 'Ala', 107, 21, 51]\n",
      "['TIROL', 1469.0, 64.23843, 181.8274, 321, 1469.0, 107021051, 'Ala', 107, 21, 51, '19100101', '19101231']\n",
      "[['LAND', 'C', 254, 0], ['AUTONUMBER', 'N', 21, 5], ['SHAPE_LENG', 'N', 21, 5], ['SHAPE_AREA', 'N', 21, 5], ['OID_', 'N', 10, 0], ['AUTONUMB_1', 'N', 21, 5], ['ID_1', 'N', 10, 0], ['NAME', 'C', 254, 0], ['REGION', 'N', 10, 0], ['DISTRICT', 'N', 10, 0], ['LOCAL_', 'N', 10, 0], ('START_DATE', 'D', '8', 0), ('END_DATE', 'D', '8', 0)]\n",
      "[['LAND', 'C', 254, 0], ['AUTONUMBER', 'N', 21, 5], ['SHAPE_LENG', 'N', 21, 5], ['SHAPE_AREA', 'N', 21, 5], ['OID_', 'N', 10, 0], ['AUTONUMB_1', 'N', 21, 5], ['ID_1', 'N', 10, 0], ['NAME', 'C', 254, 0], ['REGION', 'N', 10, 0], ['DISTRICT', 'N', 10, 0], ['LOCAL_', 'N', 10, 0], ('START_DATE', 'D', '8', 0), ('END_DATE', 'D', '8', 0)]\n",
      "['VORARLBERG', 984.0, 138.17291, 613.04459, 344, 984.0, 108029074, 'Bregenzerwald (Bezau)', 108, 29, 74]\n",
      "['VORARLBERG', 984.0, 138.17291, 613.04459, 344, 984.0, 108029074, 'Bregenzerwald (Bezau)', 108, 29, 74]\n",
      "['VORARLBERG', 984.0, 138.17291, 613.04459, 344, 984.0, 108029074, 'Bregenzerwald (Bezau)', 108, 29, 74, '19100101', '19101231']\n",
      "[['LAND', 'C', 254, 0], ['AUTONUMBER', 'N', 21, 5], ['SHAPE_LENG', 'N', 21, 5], ['SHAPE_AREA', 'N', 21, 5], ['OID_', 'N', 10, 0], ['AUTONUMB_1', 'N', 21, 5], ['ID_1', 'N', 10, 0], ['NAME', 'C', 254, 0], ['REGION', 'N', 10, 0], ['DISTRICT', 'N', 10, 0], ['LOCAL_', 'N', 10, 0], ('START_DATE', 'D', '8', 0), ('END_DATE', 'D', '8', 0)]\n",
      "[['LAND', 'C', 254, 0], ['AUTONUMBER', 'N', 21, 5], ['SHAPE_LENG', 'N', 21, 5], ['SHAPE_AREA', 'N', 21, 5], ['OID_', 'N', 10, 0], ['AUTONUMB_1', 'N', 21, 5], ['ID_1', 'N', 10, 0], ['NAME', 'C', 254, 0], ['REGION', 'N', 10, 0], ['DISTRICT', 'N', 10, 0], ['LOCAL_', 'N', 10, 0], ('START_DATE', 'D', '8', 0), ('END_DATE', 'D', '8', 0)]\n",
      "['BOSNIEN-HERZEGOWINA', 1646.0, 238.77104, 1587.00694, 1635, 1646.0, 701001010, 'Tesanj', 701, 1, 10]\n",
      "['BOSNIEN-HERZEGOWINA', 1646.0, 238.77104, 1587.00694, 1635, 1646.0, 701001010, 'Tesanj', 701, 1, 10]\n",
      "['BOSNIEN-HERZEGOWINA', 1646.0, 238.77104, 1587.00694, 1635, 1646.0, 701001010, 'Tesanj', 701, 1, 10, '19100101', '19101231']\n",
      "[['LAND', 'C', 254, 0], ['AUTONUMBER', 'N', 21, 5], ['SHAPE_LENG', 'N', 21, 5], ['SHAPE_AREA', 'N', 21, 5], ['OID_', 'N', 10, 0], ['AUTONUMB_1', 'N', 21, 5], ['ID_1', 'N', 10, 0], ['NAME', 'C', 254, 0], ['REGION', 'N', 10, 0], ['DISTRICT', 'N', 10, 0], ['LOCAL_', 'N', 10, 0], ('START_DATE', 'D', '8', 0), ('END_DATE', 'D', '8', 0)]\n",
      "[['LAND', 'C', 254, 0], ['AUTONUMBER', 'N', 21, 5], ['SHAPE_LENG', 'N', 21, 5], ['SHAPE_AREA', 'N', 21, 5], ['OID_', 'N', 10, 0], ['AUTONUMB_1', 'N', 21, 5], ['ID_1', 'N', 10, 0], ['NAME', 'C', 254, 0], ['REGION', 'N', 10, 0], ['DISTRICT', 'N', 10, 0], ['LOCAL_', 'N', 10, 0], ('START_DATE', 'D', '8', 0), ('END_DATE', 'D', '8', 0)]\n",
      "['LINKES THEISSUFER', 796.0, 81.29477, 356.08936, 1336, 796.0, 505007053, 'Nyiregyhaza Magistratsst', 505, 7, 53]\n",
      "['LINKES THEISSUFER', 796.0, 81.29477, 356.08936, 1336, 796.0, 505007053, 'Nyiregyhaza Magistratsst', 505, 7, 53]\n",
      "['LINKES THEISSUFER', 796.0, 81.29477, 356.08936, 1336, 796.0, 505007053, 'Nyiregyhaza Magistratsst', 505, 7, 53, '19100101', '19101231']\n",
      "[['LAND', 'C', 254, 0], ['AUTONUMBER', 'N', 21, 5], ['SHAPE_LENG', 'N', 21, 5], ['SHAPE_AREA', 'N', 21, 5], ['OID_', 'N', 10, 0], ['AUTONUMB_1', 'N', 21, 5], ['ID_1', 'N', 10, 0], ['NAME', 'C', 254, 0], ['REGION', 'N', 10, 0], ['DISTRICT', 'N', 10, 0], ['LOCAL_', 'N', 10, 0], ('START_DATE', 'D', '8', 0), ('END_DATE', 'D', '8', 0)]\n"
     ]
    }
   ],
   "source": [
    "for filename in os.listdir(path_regions):\n",
    "    if filename.endswith(\".shp\"):\n",
    "        r = shapefile.Reader(os.path.join(path_regions, filename.split('.')[0]))\n",
    "        w1 = os.path.join(path_regions, 'shapes_inkl_dates')\n",
    "        w2 = shapefile.Writer()\n",
    "        w2.fields = r.fields[1:]\n",
    "        w2.field('START_DATE', 'D')\n",
    "        w2.field('END_DATE', 'D')\n",
    "        print(w2.fields)\n",
    "        for shaperec in r.iterShapeRecords():\n",
    "            #w2.shape(shaperec.shape)\n",
    "            w2._shapes.append(shaperec.shape)\n",
    "            print(shaperec.record)\n",
    "            lst1 = shaperec.record\n",
    "            print(lst1)\n",
    "            lst1.extend(['19100101', '19101231'])\n",
    "            print(lst1)\n",
    "            w2.record(*lst1)\n",
    "            #w2.record(START_DATE='19100101', END_DATE='19101231')\n",
    "            print(w2.fields)\n",
    "        w2.save(os.path.join(w1, filename))"
   ]
  },
  {
   "cell_type": "code",
   "execution_count": 14,
   "metadata": {},
   "outputs": [],
   "source": [
    "ds = DataSource(os.path.join(os.path.join(path_regions, 'shapes_inkl_dates'), 'BUKOWINA.shp'))"
   ]
  },
  {
   "cell_type": "code",
   "execution_count": 15,
   "metadata": {},
   "outputs": [],
   "source": [
    "layer = ds[0]"
   ]
  },
  {
   "cell_type": "code",
   "execution_count": 16,
   "metadata": {},
   "outputs": [
    {
     "name": "stdout",
     "output_type": "stream",
     "text": [
      "PROJCS[\"ETRS89_LAEA_Europe\",\n",
      "    GEOGCS[\"GCS_ETRS_1989\",\n",
      "        DATUM[\"European_Terrestrial_Reference_System_1989\",\n",
      "            SPHEROID[\"GRS_1980\",6378137,298.257222101]],\n",
      "        PRIMEM[\"Greenwich\",0],\n",
      "        UNIT[\"Degree\",0.017453292519943295]],\n",
      "    PROJECTION[\"Lambert_Azimuthal_Equal_Area\"],\n",
      "    PARAMETER[\"latitude_of_center\",52],\n",
      "    PARAMETER[\"longitude_of_center\",10],\n",
      "    PARAMETER[\"false_easting\",4321000],\n",
      "    PARAMETER[\"false_northing\",3210000],\n",
      "    UNIT[\"Meter\",1]]\n"
     ]
    }
   ],
   "source": [
    "print(layer.srs)"
   ]
  },
  {
   "cell_type": "code",
   "execution_count": 17,
   "metadata": {},
   "outputs": [
    {
     "name": "stdout",
     "output_type": "stream",
     "text": [
      "['LAND', 'AUTONUMBER', 'SHAPE_LENG', 'SHAPE_AREA', 'OID_', 'AUTONUMB_1', 'ID_1', 'NAME', 'REGION', 'DISTRICT', 'LOCAL_', 'START_DATE', 'END_DATE']\n"
     ]
    }
   ],
   "source": [
    "print(layer.fields)"
   ]
  },
  {
   "cell_type": "code",
   "execution_count": 18,
   "metadata": {},
   "outputs": [
    {
     "name": "stdout",
     "output_type": "stream",
     "text": [
      "Saved: Stanestie/Staniwci/Stane\n"
     ]
    },
    {
     "ename": "AttributeError",
     "evalue": "'NoneType' object has no attribute 'part_of'",
     "output_type": "error",
     "traceback": [
      "\u001b[0;31m---------------------------------------------------------------------------\u001b[0m",
      "\u001b[0;31mAttributeError\u001b[0m                            Traceback (most recent call last)",
      "\u001b[0;32m<ipython-input-18-9820c28c5a8d>\u001b[0m in \u001b[0;36m<module>\u001b[0;34m()\u001b[0m\n\u001b[1;32m      3\u001b[0m         \u001b[0mlm\u001b[0m \u001b[0;34m=\u001b[0m \u001b[0mLayerMapping\u001b[0m\u001b[0;34m(\u001b[0m\u001b[0mTempSpatial\u001b[0m\u001b[0;34m,\u001b[0m \u001b[0mos\u001b[0m\u001b[0;34m.\u001b[0m\u001b[0mpath\u001b[0m\u001b[0;34m.\u001b[0m\u001b[0mjoin\u001b[0m\u001b[0;34m(\u001b[0m\u001b[0mos\u001b[0m\u001b[0;34m.\u001b[0m\u001b[0mpath\u001b[0m\u001b[0;34m.\u001b[0m\u001b[0mjoin\u001b[0m\u001b[0;34m(\u001b[0m\u001b[0mpath_regions\u001b[0m\u001b[0;34m,\u001b[0m \u001b[0;34m'shapes_inkl_dates'\u001b[0m\u001b[0;34m)\u001b[0m\u001b[0;34m,\u001b[0m \u001b[0mfilename\u001b[0m\u001b[0;34m)\u001b[0m\u001b[0;34m,\u001b[0m \u001b[0mmapping\u001b[0m\u001b[0;34m)\u001b[0m\u001b[0;34m\u001b[0m\u001b[0m\n\u001b[1;32m      4\u001b[0m         \u001b[0mlm2\u001b[0m \u001b[0;34m=\u001b[0m \u001b[0mlm\u001b[0m\u001b[0;34m.\u001b[0m\u001b[0msave\u001b[0m\u001b[0;34m(\u001b[0m\u001b[0mverbose\u001b[0m\u001b[0;34m=\u001b[0m\u001b[0;32mTrue\u001b[0m\u001b[0;34m)\u001b[0m\u001b[0;34m\u001b[0m\u001b[0m\n\u001b[0;32m----> 5\u001b[0;31m         \u001b[0mlm2\u001b[0m\u001b[0;34m.\u001b[0m\u001b[0mpart_of\u001b[0m \u001b[0;34m=\u001b[0m \u001b[0mkuk\u001b[0m\u001b[0;34m\u001b[0m\u001b[0m\n\u001b[0m\u001b[1;32m      6\u001b[0m         \u001b[0mlm2\u001b[0m\u001b[0;34m.\u001b[0m\u001b[0msave\u001b[0m\u001b[0;34m(\u001b[0m\u001b[0;34m)\u001b[0m\u001b[0;34m\u001b[0m\u001b[0m\n",
      "\u001b[0;31mAttributeError\u001b[0m: 'NoneType' object has no attribute 'part_of'"
     ]
    }
   ],
   "source": [
    "for filename in os.listdir(os.path.join(path_regions, 'shapes_inkl_dates'))[1:10]:\n",
    "    if filename.endswith(\".shp\"):\n",
    "        lm = LayerMapping(TempSpatial, os.path.join(os.path.join(path_regions, 'shapes_inkl_dates'), filename), mapping)\n",
    "        lm2 = lm.save(verbose=True)\n",
    "        lm2.part_of = kuk\n",
    "        lm2.save()"
   ]
  },
  {
   "cell_type": "code",
   "execution_count": 51,
   "metadata": {},
   "outputs": [],
   "source": [
    "from shutil import copyfile"
   ]
  },
  {
   "cell_type": "code",
   "execution_count": 52,
   "metadata": {},
   "outputs": [],
   "source": [
    "for filename in os.listdir(path_regions):\n",
    "    if filename.endswith(\".prj\"):\n",
    "        copyfile(os.path.join(path_regions, filename), os.path.join(os.path.join(path_regions, 'shapes_inkl_dates'), filename))"
   ]
  },
  {
   "cell_type": "code",
   "execution_count": null,
   "metadata": {},
   "outputs": [],
   "source": []
  }
 ],
 "metadata": {
  "kernelspec": {
   "display_name": "Django Shell-Plus",
   "language": "python",
   "name": "django_extensions"
  },
  "language_info": {
   "codemirror_mode": {
    "name": "ipython",
    "version": 3
   },
   "file_extension": ".py",
   "mimetype": "text/x-python",
   "name": "python",
   "nbconvert_exporter": "python",
   "pygments_lexer": "ipython3",
   "version": "3.6.5"
  }
 },
 "nbformat": 4,
 "nbformat_minor": 2
}
