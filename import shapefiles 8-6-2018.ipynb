{
 "cells": [
  {
   "cell_type": "code",
   "execution_count": null,
   "metadata": {},
   "outputs": [],
   "source": [
    "from django.contrib.gis.gdal import DataSource\n",
    "from helper_functions.LayerMapping2 import LayerMapping\n",
    "import os\n",
    "import shapefile\n",
    "import re\n",
    "from django.db import transaction"
   ]
  },
  {
   "cell_type": "code",
   "execution_count": null,
   "metadata": {},
   "outputs": [],
   "source": [
    "mapping = {'name': 'name', 'geom': 'POLYGON',\n",
    "           'start_date': 'start_date', 'end_date': 'end_date', 'date_accuracy': 'date_acc',\n",
    "           'orig_id': 'id'}"
   ]
  },
  {
   "cell_type": "code",
   "execution_count": null,
   "metadata": {},
   "outputs": [],
   "source": [
    "folder = '/mnt/acdh_resources/container/R_histogis_7663/mosaic/18_Österreich/austro-hungarian-empire_1910'"
   ]
  },
  {
   "cell_type": "code",
   "execution_count": null,
   "metadata": {},
   "outputs": [],
   "source": [
    "ns, created = SkosNamespace.objects.get_or_create(namespace='https://histogis.acdh.oeaw.ac.at/vocabs/administrative_levels', prefix='hg')\n",
    "scheme, created = SkosConceptScheme.objects.get_or_create(dc_title='Administrative Levels HistoGis', namespace=ns)"
   ]
  },
  {
   "cell_type": "code",
   "execution_count": null,
   "metadata": {},
   "outputs": [],
   "source": [
    "lst_files = {}\n",
    "lst_files_id = {}\n",
    "src, created = Source.objects.get_or_create(name='Austria-Hungary 1910 (mosaic data)', original_url='http://www.censusmosaic.org/mosaic/tmp/download/austro-hungarian_empire_1910.zip')\n",
    "for fn in os.listdir(folder):\n",
    "    if fn.endswith('.shp'):\n",
    "        print(fn)\n",
    "        fn_short = fn.split('.')[0]\n",
    "        #r = shapefile.Reader(os.path.join(folder, fn_short))\n",
    "        lm = LayerMapping(TempSpatial, os.path.join(folder, fn), mapping, encoding='latin1')\n",
    "        lm.save(verbose=True)\n",
    "        adm = re.search('adm[0-9]+', fn_short)\n",
    "        voc, created = SkosConcept.objects.get_or_create(pref_label=adm.group(0), namespace=ns)\n",
    "        if created:\n",
    "            voc.scheme.add(scheme)\n",
    "        for obj_id in lm.saved_object_ids:\n",
    "            print(obj_id)\n",
    "            obj = TempSpatial.objects.get(pk=obj_id)\n",
    "            obj.source = src\n",
    "            obj.administrative_unit = voc\n",
    "            obj.save()\n",
    "            lst_files['{}|{}'.format(fn_short, obj.name)] = obj_id"
   ]
  },
  {
   "cell_type": "code",
   "execution_count": null,
   "metadata": {},
   "outputs": [],
   "source": [
    "lst_files"
   ]
  },
  {
   "cell_type": "code",
   "execution_count": null,
   "metadata": {},
   "outputs": [],
   "source": [
    "with transaction.atomic():    \n",
    "    for fn in os.listdir(folder):\n",
    "        if fn.endswith('.shp'):\n",
    "            fn_short = fn.split('.')[0]\n",
    "            r = shapefile.Reader(os.path.join(folder, fn_short), encoding=\"latin1\")\n",
    "            for rr in r.iterShapeRecords():\n",
    "                parent = rr.record[6]\n",
    "                idx = rr.record[0]\n",
    "                print(parent)\n",
    "                if len(parent) > 5:\n",
    "                    try:\n",
    "                        parent = parent.decode('latin1')\n",
    "                    except:\n",
    "                        pass\n",
    "                    try:\n",
    "                        parent2 = lst_files[parent]\n",
    "                    except:\n",
    "                        parent = parent.replace('ü', 'ue')\n",
    "                        parent = parent.replace('ö', 'oe')\n",
    "                        parent = parent.replace('ä', 'ae')\n",
    "                    try:    \n",
    "                        parent2 = lst_files[parent]\n",
    "                    except:\n",
    "                        print('key error: {}'.format(parent))\n",
    "                        continue\n",
    "                    t1 = TempSpatial.objects.get(pk=parent2)\n",
    "                    t2 = TempSpatial.objects.get(orig_id=idx)\n",
    "                    t2.part_of = t1\n",
    "                    t2.save()"
   ]
  },
  {
   "cell_type": "code",
   "execution_count": null,
   "metadata": {},
   "outputs": [],
   "source": []
  }
 ],
 "metadata": {
  "kernelspec": {
   "display_name": "Django Shell-Plus",
   "language": "python",
   "name": "django_extensions"
  },
  "language_info": {
   "codemirror_mode": {
    "name": "ipython",
    "version": 3
   },
   "file_extension": ".py",
   "mimetype": "text/x-python",
   "name": "python",
   "nbconvert_exporter": "python",
   "pygments_lexer": "ipython3",
   "version": "3.6.2"
  }
 },
 "nbformat": 4,
 "nbformat_minor": 2
}
